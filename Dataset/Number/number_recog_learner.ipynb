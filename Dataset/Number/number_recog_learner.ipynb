{
 "cells": [
  {
   "cell_type": "code",
   "execution_count": 1,
   "id": "3f934b40",
   "metadata": {},
   "outputs": [],
   "source": [
    "import pandas as pd\n",
    "from sklearn.model_selection import train_test_split\n",
    "from sklearn.ensemble import RandomForestClassifier\n",
    "from sklearn.metrics import accuracy_score\n",
    "import joblib"
   ]
  },
  {
   "cell_type": "code",
   "execution_count": 2,
   "id": "a298753d",
   "metadata": {},
   "outputs": [],
   "source": [
    "data = pd.read_csv('./merged.csv')"
   ]
  },
  {
   "cell_type": "code",
   "execution_count": 3,
   "id": "3d0f44cb",
   "metadata": {},
   "outputs": [],
   "source": [
    "data = data.drop(['Sample_Number'], axis=1)"
   ]
  },
  {
   "cell_type": "code",
   "execution_count": 4,
   "id": "cd34b3fc",
   "metadata": {},
   "outputs": [
    {
     "data": {
      "text/html": [
       "<div>\n",
       "<style scoped>\n",
       "    .dataframe tbody tr th:only-of-type {\n",
       "        vertical-align: middle;\n",
       "    }\n",
       "\n",
       "    .dataframe tbody tr th {\n",
       "        vertical-align: top;\n",
       "    }\n",
       "\n",
       "    .dataframe thead th {\n",
       "        text-align: right;\n",
       "    }\n",
       "</style>\n",
       "<table border=\"1\" class=\"dataframe\">\n",
       "  <thead>\n",
       "    <tr style=\"text-align: right;\">\n",
       "      <th></th>\n",
       "      <th>Feature_1</th>\n",
       "      <th>Feature_2</th>\n",
       "      <th>Feature_3</th>\n",
       "      <th>Feature_4</th>\n",
       "      <th>Feature_5</th>\n",
       "      <th>Feature_6</th>\n",
       "      <th>Feature_7</th>\n",
       "      <th>Feature_8</th>\n",
       "      <th>Feature_9</th>\n",
       "      <th>Feature_10</th>\n",
       "      <th>...</th>\n",
       "      <th>Feature_776</th>\n",
       "      <th>Feature_777</th>\n",
       "      <th>Feature_778</th>\n",
       "      <th>Feature_779</th>\n",
       "      <th>Feature_780</th>\n",
       "      <th>Feature_781</th>\n",
       "      <th>Feature_782</th>\n",
       "      <th>Feature_783</th>\n",
       "      <th>Feature_784</th>\n",
       "      <th>label</th>\n",
       "    </tr>\n",
       "  </thead>\n",
       "  <tbody>\n",
       "    <tr>\n",
       "      <th>487</th>\n",
       "      <td>153</td>\n",
       "      <td>157</td>\n",
       "      <td>141</td>\n",
       "      <td>116</td>\n",
       "      <td>117</td>\n",
       "      <td>113</td>\n",
       "      <td>106</td>\n",
       "      <td>98</td>\n",
       "      <td>87</td>\n",
       "      <td>81</td>\n",
       "      <td>...</td>\n",
       "      <td>74</td>\n",
       "      <td>74</td>\n",
       "      <td>74</td>\n",
       "      <td>75</td>\n",
       "      <td>75</td>\n",
       "      <td>75</td>\n",
       "      <td>75</td>\n",
       "      <td>75</td>\n",
       "      <td>75</td>\n",
       "      <td>2</td>\n",
       "    </tr>\n",
       "    <tr>\n",
       "      <th>488</th>\n",
       "      <td>112</td>\n",
       "      <td>118</td>\n",
       "      <td>123</td>\n",
       "      <td>124</td>\n",
       "      <td>121</td>\n",
       "      <td>118</td>\n",
       "      <td>109</td>\n",
       "      <td>94</td>\n",
       "      <td>87</td>\n",
       "      <td>81</td>\n",
       "      <td>...</td>\n",
       "      <td>74</td>\n",
       "      <td>75</td>\n",
       "      <td>74</td>\n",
       "      <td>75</td>\n",
       "      <td>75</td>\n",
       "      <td>74</td>\n",
       "      <td>73</td>\n",
       "      <td>74</td>\n",
       "      <td>76</td>\n",
       "      <td>2</td>\n",
       "    </tr>\n",
       "    <tr>\n",
       "      <th>489</th>\n",
       "      <td>115</td>\n",
       "      <td>117</td>\n",
       "      <td>114</td>\n",
       "      <td>113</td>\n",
       "      <td>102</td>\n",
       "      <td>88</td>\n",
       "      <td>83</td>\n",
       "      <td>79</td>\n",
       "      <td>78</td>\n",
       "      <td>78</td>\n",
       "      <td>...</td>\n",
       "      <td>77</td>\n",
       "      <td>77</td>\n",
       "      <td>77</td>\n",
       "      <td>78</td>\n",
       "      <td>76</td>\n",
       "      <td>77</td>\n",
       "      <td>75</td>\n",
       "      <td>75</td>\n",
       "      <td>86</td>\n",
       "      <td>2</td>\n",
       "    </tr>\n",
       "    <tr>\n",
       "      <th>490</th>\n",
       "      <td>117</td>\n",
       "      <td>126</td>\n",
       "      <td>144</td>\n",
       "      <td>153</td>\n",
       "      <td>134</td>\n",
       "      <td>109</td>\n",
       "      <td>91</td>\n",
       "      <td>81</td>\n",
       "      <td>76</td>\n",
       "      <td>79</td>\n",
       "      <td>...</td>\n",
       "      <td>78</td>\n",
       "      <td>78</td>\n",
       "      <td>77</td>\n",
       "      <td>77</td>\n",
       "      <td>76</td>\n",
       "      <td>74</td>\n",
       "      <td>76</td>\n",
       "      <td>77</td>\n",
       "      <td>80</td>\n",
       "      <td>2</td>\n",
       "    </tr>\n",
       "    <tr>\n",
       "      <th>491</th>\n",
       "      <td>116</td>\n",
       "      <td>116</td>\n",
       "      <td>116</td>\n",
       "      <td>113</td>\n",
       "      <td>106</td>\n",
       "      <td>97</td>\n",
       "      <td>89</td>\n",
       "      <td>83</td>\n",
       "      <td>78</td>\n",
       "      <td>81</td>\n",
       "      <td>...</td>\n",
       "      <td>74</td>\n",
       "      <td>72</td>\n",
       "      <td>72</td>\n",
       "      <td>74</td>\n",
       "      <td>75</td>\n",
       "      <td>75</td>\n",
       "      <td>72</td>\n",
       "      <td>73</td>\n",
       "      <td>84</td>\n",
       "      <td>2</td>\n",
       "    </tr>\n",
       "  </tbody>\n",
       "</table>\n",
       "<p>5 rows × 785 columns</p>\n",
       "</div>"
      ],
      "text/plain": [
       "     Feature_1  Feature_2  Feature_3  Feature_4  Feature_5  Feature_6  \\\n",
       "487        153        157        141        116        117        113   \n",
       "488        112        118        123        124        121        118   \n",
       "489        115        117        114        113        102         88   \n",
       "490        117        126        144        153        134        109   \n",
       "491        116        116        116        113        106         97   \n",
       "\n",
       "     Feature_7  Feature_8  Feature_9  Feature_10  ...  Feature_776  \\\n",
       "487        106         98         87          81  ...           74   \n",
       "488        109         94         87          81  ...           74   \n",
       "489         83         79         78          78  ...           77   \n",
       "490         91         81         76          79  ...           78   \n",
       "491         89         83         78          81  ...           74   \n",
       "\n",
       "     Feature_777  Feature_778  Feature_779  Feature_780  Feature_781  \\\n",
       "487           74           74           75           75           75   \n",
       "488           75           74           75           75           74   \n",
       "489           77           77           78           76           77   \n",
       "490           78           77           77           76           74   \n",
       "491           72           72           74           75           75   \n",
       "\n",
       "     Feature_782  Feature_783  Feature_784  label  \n",
       "487           75           75           75      2  \n",
       "488           73           74           76      2  \n",
       "489           75           75           86      2  \n",
       "490           76           77           80      2  \n",
       "491           72           73           84      2  \n",
       "\n",
       "[5 rows x 785 columns]"
      ]
     },
     "execution_count": 4,
     "metadata": {},
     "output_type": "execute_result"
    }
   ],
   "source": [
    "data.tail()"
   ]
  },
  {
   "cell_type": "code",
   "execution_count": 5,
   "id": "ee0f88e8",
   "metadata": {},
   "outputs": [
    {
     "name": "stdout",
     "output_type": "stream",
     "text": [
      "Accuracy: 1.0\n",
      "Accuracy (new dataset): 1.0\n"
     ]
    }
   ],
   "source": [
    "# 特徴量とラベルの取得\n",
    "X = data.drop('label', axis=1)  # ラベル列を除いた特徴量\n",
    "y = data['label']  # ラベル列\n",
    "\n",
    "# データの分割\n",
    "X_train, X_test, y_train, y_test = train_test_split(X, y, test_size=0.2, random_state=42)\n",
    "\n",
    "# ランダムフォレストモデルの作成と学習\n",
    "model = RandomForestClassifier()\n",
    "model.fit(X_train, y_train)\n",
    "\n",
    "# テストデータで予測\n",
    "y_pred = model.predict(X_test)\n",
    "\n",
    "# モデルの評価\n",
    "accuracy = model.score(X_test, y_test)\n",
    "print(\"Accuracy:\", accuracy)\n",
    "\n",
    "# モデルを保存\n",
    "joblib.dump(model, 'number_classifier.pkl')\n",
    "\n",
    "# 別のデータセットの読み込み\n",
    "new_data = pd.read_csv('test_merged.csv')\n",
    "new_data = new_data.drop(['Sample_Number'], axis=1)\n",
    "\n",
    "# 特徴量とラベルの取得\n",
    "X_new = new_data.drop('label', axis=1)\n",
    "y_new = new_data['label']\n",
    "\n",
    "# モデルの読み込み\n",
    "# model = joblib.load('your_model.pkl')\n",
    "\n",
    "# モデルを使用して予測\n",
    "y_pred_new = model.predict(X_new)\n",
    "\n",
    "# 正解率の評価\n",
    "accuracy_new = accuracy_score(y_new, y_pred_new)\n",
    "print(\"Accuracy (new dataset):\", accuracy_new)"
   ]
  },
  {
   "cell_type": "code",
   "execution_count": 6,
   "id": "c1450c29",
   "metadata": {},
   "outputs": [
    {
     "data": {
      "text/html": [
       "<div>\n",
       "<style scoped>\n",
       "    .dataframe tbody tr th:only-of-type {\n",
       "        vertical-align: middle;\n",
       "    }\n",
       "\n",
       "    .dataframe tbody tr th {\n",
       "        vertical-align: top;\n",
       "    }\n",
       "\n",
       "    .dataframe thead th {\n",
       "        text-align: right;\n",
       "    }\n",
       "</style>\n",
       "<table border=\"1\" class=\"dataframe\">\n",
       "  <thead>\n",
       "    <tr style=\"text-align: right;\">\n",
       "      <th></th>\n",
       "      <th>Feature_1</th>\n",
       "      <th>Feature_2</th>\n",
       "      <th>Feature_3</th>\n",
       "      <th>Feature_4</th>\n",
       "      <th>Feature_5</th>\n",
       "      <th>Feature_6</th>\n",
       "      <th>Feature_7</th>\n",
       "      <th>Feature_8</th>\n",
       "      <th>Feature_9</th>\n",
       "      <th>Feature_10</th>\n",
       "      <th>...</th>\n",
       "      <th>Feature_776</th>\n",
       "      <th>Feature_777</th>\n",
       "      <th>Feature_778</th>\n",
       "      <th>Feature_779</th>\n",
       "      <th>Feature_780</th>\n",
       "      <th>Feature_781</th>\n",
       "      <th>Feature_782</th>\n",
       "      <th>Feature_783</th>\n",
       "      <th>Feature_784</th>\n",
       "      <th>label</th>\n",
       "    </tr>\n",
       "  </thead>\n",
       "  <tbody>\n",
       "    <tr>\n",
       "      <th>0</th>\n",
       "      <td>119</td>\n",
       "      <td>118</td>\n",
       "      <td>121</td>\n",
       "      <td>127</td>\n",
       "      <td>127</td>\n",
       "      <td>124</td>\n",
       "      <td>121</td>\n",
       "      <td>119</td>\n",
       "      <td>119</td>\n",
       "      <td>120</td>\n",
       "      <td>...</td>\n",
       "      <td>77</td>\n",
       "      <td>76</td>\n",
       "      <td>72</td>\n",
       "      <td>73</td>\n",
       "      <td>77</td>\n",
       "      <td>73</td>\n",
       "      <td>80</td>\n",
       "      <td>110</td>\n",
       "      <td>117</td>\n",
       "      <td>4</td>\n",
       "    </tr>\n",
       "    <tr>\n",
       "      <th>1</th>\n",
       "      <td>141</td>\n",
       "      <td>142</td>\n",
       "      <td>139</td>\n",
       "      <td>139</td>\n",
       "      <td>138</td>\n",
       "      <td>139</td>\n",
       "      <td>139</td>\n",
       "      <td>139</td>\n",
       "      <td>138</td>\n",
       "      <td>138</td>\n",
       "      <td>...</td>\n",
       "      <td>79</td>\n",
       "      <td>78</td>\n",
       "      <td>76</td>\n",
       "      <td>75</td>\n",
       "      <td>74</td>\n",
       "      <td>77</td>\n",
       "      <td>85</td>\n",
       "      <td>92</td>\n",
       "      <td>94</td>\n",
       "      <td>4</td>\n",
       "    </tr>\n",
       "    <tr>\n",
       "      <th>2</th>\n",
       "      <td>122</td>\n",
       "      <td>122</td>\n",
       "      <td>121</td>\n",
       "      <td>125</td>\n",
       "      <td>129</td>\n",
       "      <td>124</td>\n",
       "      <td>119</td>\n",
       "      <td>116</td>\n",
       "      <td>118</td>\n",
       "      <td>118</td>\n",
       "      <td>...</td>\n",
       "      <td>74</td>\n",
       "      <td>75</td>\n",
       "      <td>74</td>\n",
       "      <td>74</td>\n",
       "      <td>74</td>\n",
       "      <td>72</td>\n",
       "      <td>87</td>\n",
       "      <td>111</td>\n",
       "      <td>109</td>\n",
       "      <td>4</td>\n",
       "    </tr>\n",
       "    <tr>\n",
       "      <th>3</th>\n",
       "      <td>119</td>\n",
       "      <td>121</td>\n",
       "      <td>124</td>\n",
       "      <td>125</td>\n",
       "      <td>123</td>\n",
       "      <td>120</td>\n",
       "      <td>118</td>\n",
       "      <td>118</td>\n",
       "      <td>119</td>\n",
       "      <td>120</td>\n",
       "      <td>...</td>\n",
       "      <td>74</td>\n",
       "      <td>74</td>\n",
       "      <td>73</td>\n",
       "      <td>73</td>\n",
       "      <td>73</td>\n",
       "      <td>70</td>\n",
       "      <td>85</td>\n",
       "      <td>116</td>\n",
       "      <td>118</td>\n",
       "      <td>4</td>\n",
       "    </tr>\n",
       "    <tr>\n",
       "      <th>4</th>\n",
       "      <td>147</td>\n",
       "      <td>147</td>\n",
       "      <td>143</td>\n",
       "      <td>115</td>\n",
       "      <td>108</td>\n",
       "      <td>120</td>\n",
       "      <td>134</td>\n",
       "      <td>138</td>\n",
       "      <td>143</td>\n",
       "      <td>138</td>\n",
       "      <td>...</td>\n",
       "      <td>76</td>\n",
       "      <td>78</td>\n",
       "      <td>78</td>\n",
       "      <td>79</td>\n",
       "      <td>78</td>\n",
       "      <td>79</td>\n",
       "      <td>86</td>\n",
       "      <td>94</td>\n",
       "      <td>97</td>\n",
       "      <td>4</td>\n",
       "    </tr>\n",
       "  </tbody>\n",
       "</table>\n",
       "<p>5 rows × 785 columns</p>\n",
       "</div>"
      ],
      "text/plain": [
       "   Feature_1  Feature_2  Feature_3  Feature_4  Feature_5  Feature_6  \\\n",
       "0        119        118        121        127        127        124   \n",
       "1        141        142        139        139        138        139   \n",
       "2        122        122        121        125        129        124   \n",
       "3        119        121        124        125        123        120   \n",
       "4        147        147        143        115        108        120   \n",
       "\n",
       "   Feature_7  Feature_8  Feature_9  Feature_10  ...  Feature_776  Feature_777  \\\n",
       "0        121        119        119         120  ...           77           76   \n",
       "1        139        139        138         138  ...           79           78   \n",
       "2        119        116        118         118  ...           74           75   \n",
       "3        118        118        119         120  ...           74           74   \n",
       "4        134        138        143         138  ...           76           78   \n",
       "\n",
       "   Feature_778  Feature_779  Feature_780  Feature_781  Feature_782  \\\n",
       "0           72           73           77           73           80   \n",
       "1           76           75           74           77           85   \n",
       "2           74           74           74           72           87   \n",
       "3           73           73           73           70           85   \n",
       "4           78           79           78           79           86   \n",
       "\n",
       "   Feature_783  Feature_784  label  \n",
       "0          110          117      4  \n",
       "1           92           94      4  \n",
       "2          111          109      4  \n",
       "3          116          118      4  \n",
       "4           94           97      4  \n",
       "\n",
       "[5 rows x 785 columns]"
      ]
     },
     "execution_count": 6,
     "metadata": {},
     "output_type": "execute_result"
    }
   ],
   "source": [
    "new_data.head()"
   ]
  },
  {
   "cell_type": "code",
   "execution_count": 7,
   "id": "66afdd37",
   "metadata": {},
   "outputs": [
    {
     "data": {
      "text/plain": [
       "array([4, 4, 4, 4, 4, 4, 4, 4, 4, 4, 5, 5, 5, 5, 5, 5, 5, 5, 5, 5, 7, 7,\n",
       "       7, 7, 7, 7, 7, 7, 7, 7, 6, 6, 6, 6, 6, 6, 6, 6, 6, 6, 2, 2, 2, 2,\n",
       "       2, 2, 2, 2, 2, 2, 3, 3, 3, 3, 3, 3, 3, 3, 3, 3, 1, 1, 1, 1, 1, 1,\n",
       "       1, 1, 1, 1, 0, 0, 0, 0, 0, 0, 0, 0, 0, 0, 8, 8, 8, 8, 8, 8, 8, 8,\n",
       "       8, 8, 9, 9, 9, 9, 9, 9, 9, 9, 9, 9])"
      ]
     },
     "execution_count": 7,
     "metadata": {},
     "output_type": "execute_result"
    }
   ],
   "source": [
    "y_pred_new"
   ]
  },
  {
   "cell_type": "code",
   "execution_count": 8,
   "id": "6b3914f5",
   "metadata": {},
   "outputs": [],
   "source": [
    "model = joblib.load('number_classifier.pkl')"
   ]
  },
  {
   "cell_type": "code",
   "execution_count": 9,
   "id": "b57f4f6f",
   "metadata": {},
   "outputs": [],
   "source": [
    "from PIL import Image\n",
    "import os\n",
    "from IPython.display import display\n",
    "\n",
    "input_path = './pic1.png'\n",
    "\n",
    "# 1920x1200の画像を開く\n",
    "image = Image.open(input_path)\n",
    "\n",
    "# 画像をグレースケールに変換\n",
    "gray_image = image.convert(\"L\")\n",
    "\n",
    "# 画像のサイズを取得\n",
    "width, height = gray_image.size\n",
    "\n",
    "# クロップする矩形の上辺のY座標\n",
    "top = 945\n",
    "bottom = 1000\n",
    "\n",
    "# クロップする矩形の幅（横方向に8等分する）\n",
    "crop_width = 40\n",
    "\n",
    "p1_score_images = []\n",
    "p2_score_images = []\n",
    "\n",
    "# 画像をクロップして保存\n",
    "for i in range(8):\n",
    "    # クロップする矩形の左上座標と右下座標を計算\n",
    "    left = 352 + crop_width * i\n",
    "    right = left + crop_width\n",
    "\n",
    "    # 画像をクロップ\n",
    "    p1_score_images.append(gray_image.crop((left, top, right, bottom)))\n",
    "\n",
    "for i in range(8):\n",
    "    # クロップする矩形の左上座標と右下座標を計算\n",
    "    left = 352 + crop_width * i + 900\n",
    "    right = left + crop_width\n",
    "\n",
    "    # 画像をクロップ\n",
    "    p2_score_images.append(gray_image.crop((left, top, right, bottom)))"
   ]
  },
  {
   "cell_type": "code",
   "execution_count": 10,
   "id": "fd92c827",
   "metadata": {},
   "outputs": [
    {
     "data": {
      "text/plain": [
       "PIL.Image.Image"
      ]
     },
     "execution_count": 10,
     "metadata": {},
     "output_type": "execute_result"
    }
   ],
   "source": [
    "type(p1_score_images[0])"
   ]
  },
  {
   "cell_type": "code",
   "execution_count": 11,
   "id": "968a92c6",
   "metadata": {},
   "outputs": [
    {
     "data": {
      "image/png": "[encoded data removed]",
      "text/plain": [
       "<PIL.Image.Image image mode=L size=40x55 at 0x12FF1DEE0>"
      ]
     },
     "metadata": {},
     "output_type": "display_data"
    },
    {
     "data": {
      "image/png": "[encoded data removed]",
      "text/plain": [
       "<PIL.Image.Image image mode=L size=40x55 at 0x12FF1DF40>"
      ]
     },
     "metadata": {},
     "output_type": "display_data"
    },
    {
     "data": {
      "image/png": "[encoded data removed]",
      "text/plain": [
       "<PIL.Image.Image image mode=L size=40x55 at 0x12FF1DFA0>"
      ]
     },
     "metadata": {},
     "output_type": "display_data"
    },
    {
     "data": {
      "image/png": "[encoded data removed]",
      "text/plain": [
       "<PIL.Image.Image image mode=L size=40x55 at 0x12FF1DCD0>"
      ]
     },
     "metadata": {},
     "output_type": "display_data"
    },
    {
     "data": {
      "image/png": "[encoded data removed]",
      "text/plain": [
       "<PIL.Image.Image image mode=L size=40x55 at 0x1305F7B20>"
      ]
     },
     "metadata": {},
     "output_type": "display_data"
    },
    {
     "data": {
      "image/png": "[encoded data removed]",
      "text/plain": [
       "<PIL.Image.Image image mode=L size=40x55 at 0x1305F71C0>"
      ]
     },
     "metadata": {},
     "output_type": "display_data"
    },
    {
     "data": {
      "image/png": "[encoded data removed]",
      "text/plain": [
       "<PIL.Image.Image image mode=L size=40x55 at 0x1305F7A90>"
      ]
     },
     "metadata": {},
     "output_type": "display_data"
    },
    {
     "data": {
      "image/png": "[encoded data removed]",
      "text/plain": [
       "<PIL.Image.Image image mode=L size=40x55 at 0x1306023D0>"
      ]
     },
     "metadata": {},
     "output_type": "display_data"
    },
    {
     "data": {
      "image/png": "[encoded data removed]",
      "text/plain": [
       "<PIL.Image.Image image mode=L size=40x55 at 0x12FF43D00>"
      ]
     },
     "metadata": {},
     "output_type": "display_data"
    },
    {
     "data": {
      "image/png": "[encoded data removed]",
      "text/plain": [
       "<PIL.Image.Image image mode=L size=40x55 at 0x130602400>"
      ]
     },
     "metadata": {},
     "output_type": "display_data"
    },
    {
     "data": {
      "image/png": "[encoded data removed]",
      "text/plain": [
       "<PIL.Image.Image image mode=L size=40x55 at 0x130602430>"
      ]
     },
     "metadata": {},
     "output_type": "display_data"
    },
    {
     "data": {
      "image/png": "[encoded data removed]",
      "text/plain": [
       "<PIL.Image.Image image mode=L size=40x55 at 0x130602460>"
      ]
     },
     "metadata": {},
     "output_type": "display_data"
    },
    {
     "data": {
      "image/png": "[encoded data removed]",
      "text/plain": [
       "<PIL.Image.Image image mode=L size=40x55 at 0x130602490>"
      ]
     },
     "metadata": {},
     "output_type": "display_data"
    },
    {
     "data": {
      "image/png": "[encoded data removed]",
      "text/plain": [
       "<PIL.Image.Image image mode=L size=40x55 at 0x1306024F0>"
      ]
     },
     "metadata": {},
     "output_type": "display_data"
    },
    {
     "data": {
      "image/png": "[encoded data removed]",
      "text/plain": [
       "<PIL.Image.Image image mode=L size=40x55 at 0x130602520>"
      ]
     },
     "metadata": {},
     "output_type": "display_data"
    },
    {
     "data": {
      "image/png": "[encoded data removed]",
      "text/plain": [
       "<PIL.Image.Image image mode=L size=40x55 at 0x130602550>"
      ]
     },
     "metadata": {},
     "output_type": "display_data"
    }
   ],
   "source": [
    "# 画像の一覧表示\n",
    "for file in p1_score_images:\n",
    "    display(file)\n",
    "for file in p2_score_images:\n",
    "    display(file)"
   ]
  },
  {
   "cell_type": "code",
   "execution_count": 15,
   "id": "74d320b4",
   "metadata": {},
   "outputs": [],
   "source": [
    "import numpy as np\n",
    "# 28*28にサイズ変更\n",
    "p1_score_images_resized = []\n",
    "p2_score_images_resized = []\n",
    "\n",
    "for file in p1_score_images:\n",
    "    resized = file.resize((28, 28))\n",
    "    array = np.array(resized)\n",
    "    flatten = array.flatten()\n",
    "    p1_score_images_resized.append(flatten)\n",
    "for file in p2_score_images:\n",
    "    resized = file.resize((28, 28))\n",
    "    array = np.array(resized)\n",
    "    flatten = array.flatten()\n",
    "    p2_score_images_resized.append(flatten)"
   ]
  },
  {
   "cell_type": "code",
   "execution_count": 16,
   "id": "91268869",
   "metadata": {},
   "outputs": [
    {
     "data": {
      "text/plain": [
       "784"
      ]
     },
     "execution_count": 16,
     "metadata": {},
     "output_type": "execute_result"
    }
   ],
   "source": [
    "len(p1_score_images_resized[0])"
   ]
  },
  {
   "cell_type": "code",
   "execution_count": null,
   "id": "3814eaad",
   "metadata": {},
   "outputs": [],
   "source": []
  },
  {
   "cell_type": "code",
   "execution_count": null,
   "id": "9d0d4587",
   "metadata": {},
   "outputs": [],
   "source": []
  },
  {
   "cell_type": "code",
   "execution_count": 20,
   "id": "c077d998",
   "metadata": {},
   "outputs": [],
   "source": [
    "# data = data.drop(['label'], axis=1)\n",
    "new_df = pd.DataFrame(p1_score_images_resized, columns=data.columns)"
   ]
  },
  {
   "cell_type": "code",
   "execution_count": 21,
   "id": "9c0abf1b",
   "metadata": {},
   "outputs": [
    {
     "data": {
      "text/html": [
       "<div>\n",
       "<style scoped>\n",
       "    .dataframe tbody tr th:only-of-type {\n",
       "        vertical-align: middle;\n",
       "    }\n",
       "\n",
       "    .dataframe tbody tr th {\n",
       "        vertical-align: top;\n",
       "    }\n",
       "\n",
       "    .dataframe thead th {\n",
       "        text-align: right;\n",
       "    }\n",
       "</style>\n",
       "<table border=\"1\" class=\"dataframe\">\n",
       "  <thead>\n",
       "    <tr style=\"text-align: right;\">\n",
       "      <th></th>\n",
       "      <th>Feature_1</th>\n",
       "      <th>Feature_2</th>\n",
       "      <th>Feature_3</th>\n",
       "      <th>Feature_4</th>\n",
       "      <th>Feature_5</th>\n",
       "      <th>Feature_6</th>\n",
       "      <th>Feature_7</th>\n",
       "      <th>Feature_8</th>\n",
       "      <th>Feature_9</th>\n",
       "      <th>Feature_10</th>\n",
       "      <th>...</th>\n",
       "      <th>Feature_775</th>\n",
       "      <th>Feature_776</th>\n",
       "      <th>Feature_777</th>\n",
       "      <th>Feature_778</th>\n",
       "      <th>Feature_779</th>\n",
       "      <th>Feature_780</th>\n",
       "      <th>Feature_781</th>\n",
       "      <th>Feature_782</th>\n",
       "      <th>Feature_783</th>\n",
       "      <th>Feature_784</th>\n",
       "    </tr>\n",
       "  </thead>\n",
       "  <tbody>\n",
       "    <tr>\n",
       "      <th>0</th>\n",
       "      <td>-124</td>\n",
       "      <td>-125</td>\n",
       "      <td>-125</td>\n",
       "      <td>-127</td>\n",
       "      <td>125</td>\n",
       "      <td>-128</td>\n",
       "      <td>-126</td>\n",
       "      <td>121</td>\n",
       "      <td>96</td>\n",
       "      <td>81</td>\n",
       "      <td>...</td>\n",
       "      <td>82</td>\n",
       "      <td>81</td>\n",
       "      <td>76</td>\n",
       "      <td>80</td>\n",
       "      <td>102</td>\n",
       "      <td>127</td>\n",
       "      <td>-107</td>\n",
       "      <td>-92</td>\n",
       "      <td>-89</td>\n",
       "      <td>-87</td>\n",
       "    </tr>\n",
       "    <tr>\n",
       "      <th>1</th>\n",
       "      <td>-125</td>\n",
       "      <td>-110</td>\n",
       "      <td>-95</td>\n",
       "      <td>-88</td>\n",
       "      <td>-88</td>\n",
       "      <td>-104</td>\n",
       "      <td>122</td>\n",
       "      <td>91</td>\n",
       "      <td>78</td>\n",
       "      <td>79</td>\n",
       "      <td>...</td>\n",
       "      <td>82</td>\n",
       "      <td>80</td>\n",
       "      <td>74</td>\n",
       "      <td>82</td>\n",
       "      <td>95</td>\n",
       "      <td>113</td>\n",
       "      <td>-127</td>\n",
       "      <td>-116</td>\n",
       "      <td>-113</td>\n",
       "      <td>-110</td>\n",
       "    </tr>\n",
       "    <tr>\n",
       "      <th>2</th>\n",
       "      <td>-105</td>\n",
       "      <td>-107</td>\n",
       "      <td>-110</td>\n",
       "      <td>-116</td>\n",
       "      <td>-122</td>\n",
       "      <td>127</td>\n",
       "      <td>114</td>\n",
       "      <td>101</td>\n",
       "      <td>87</td>\n",
       "      <td>80</td>\n",
       "      <td>...</td>\n",
       "      <td>78</td>\n",
       "      <td>76</td>\n",
       "      <td>74</td>\n",
       "      <td>77</td>\n",
       "      <td>81</td>\n",
       "      <td>93</td>\n",
       "      <td>106</td>\n",
       "      <td>113</td>\n",
       "      <td>116</td>\n",
       "      <td>118</td>\n",
       "    </tr>\n",
       "    <tr>\n",
       "      <th>3</th>\n",
       "      <td>118</td>\n",
       "      <td>-119</td>\n",
       "      <td>-105</td>\n",
       "      <td>-101</td>\n",
       "      <td>-101</td>\n",
       "      <td>-114</td>\n",
       "      <td>117</td>\n",
       "      <td>88</td>\n",
       "      <td>78</td>\n",
       "      <td>81</td>\n",
       "      <td>...</td>\n",
       "      <td>81</td>\n",
       "      <td>80</td>\n",
       "      <td>80</td>\n",
       "      <td>82</td>\n",
       "      <td>87</td>\n",
       "      <td>96</td>\n",
       "      <td>108</td>\n",
       "      <td>116</td>\n",
       "      <td>119</td>\n",
       "      <td>121</td>\n",
       "    </tr>\n",
       "    <tr>\n",
       "      <th>4</th>\n",
       "      <td>-97</td>\n",
       "      <td>-101</td>\n",
       "      <td>-122</td>\n",
       "      <td>124</td>\n",
       "      <td>125</td>\n",
       "      <td>125</td>\n",
       "      <td>126</td>\n",
       "      <td>126</td>\n",
       "      <td>125</td>\n",
       "      <td>121</td>\n",
       "      <td>...</td>\n",
       "      <td>73</td>\n",
       "      <td>78</td>\n",
       "      <td>72</td>\n",
       "      <td>80</td>\n",
       "      <td>91</td>\n",
       "      <td>109</td>\n",
       "      <td>120</td>\n",
       "      <td>122</td>\n",
       "      <td>123</td>\n",
       "      <td>123</td>\n",
       "    </tr>\n",
       "  </tbody>\n",
       "</table>\n",
       "<p>5 rows × 784 columns</p>\n",
       "</div>"
      ],
      "text/plain": [
       "   Feature_1  Feature_2  Feature_3  Feature_4  Feature_5  Feature_6  \\\n",
       "0       -124       -125       -125       -127        125       -128   \n",
       "1       -125       -110        -95        -88        -88       -104   \n",
       "2       -105       -107       -110       -116       -122        127   \n",
       "3        118       -119       -105       -101       -101       -114   \n",
       "4        -97       -101       -122        124        125        125   \n",
       "\n",
       "   Feature_7  Feature_8  Feature_9  Feature_10  ...  Feature_775  Feature_776  \\\n",
       "0       -126        121         96          81  ...           82           81   \n",
       "1        122         91         78          79  ...           82           80   \n",
       "2        114        101         87          80  ...           78           76   \n",
       "3        117         88         78          81  ...           81           80   \n",
       "4        126        126        125         121  ...           73           78   \n",
       "\n",
       "   Feature_777  Feature_778  Feature_779  Feature_780  Feature_781  \\\n",
       "0           76           80          102          127         -107   \n",
       "1           74           82           95          113         -127   \n",
       "2           74           77           81           93          106   \n",
       "3           80           82           87           96          108   \n",
       "4           72           80           91          109          120   \n",
       "\n",
       "   Feature_782  Feature_783  Feature_784  \n",
       "0          -92          -89          -87  \n",
       "1         -116         -113         -110  \n",
       "2          113          116          118  \n",
       "3          116          119          121  \n",
       "4          122          123          123  \n",
       "\n",
       "[5 rows x 784 columns]"
      ]
     },
     "execution_count": 21,
     "metadata": {},
     "output_type": "execute_result"
    }
   ],
   "source": [
    "new_df.head()"
   ]
  },
  {
   "cell_type": "code",
   "execution_count": null,
   "id": "512b8fac",
   "metadata": {},
   "outputs": [],
   "source": [
    "predictions = model.predict(new_df)"
   ]
  },
  {
   "cell_type": "code",
   "execution_count": null,
   "id": "195b9eca",
   "metadata": {},
   "outputs": [],
   "source": [
    "predictions"
   ]
  },
  {
   "cell_type": "code",
   "execution_count": null,
   "id": "01730f1a",
   "metadata": {},
   "outputs": [],
   "source": []
  },
  {
   "cell_type": "code",
   "execution_count": null,
   "id": "9b15606b",
   "metadata": {},
   "outputs": [],
   "source": []
  },
  {
   "cell_type": "code",
   "execution_count": null,
   "id": "cd8f980a",
   "metadata": {},
   "outputs": [],
   "source": []
  },
  {
   "cell_type": "code",
   "execution_count": null,
   "id": "89d3f9fa",
   "metadata": {},
   "outputs": [],
   "source": []
  }
 ],
 "metadata": {
  "kernelspec": {
   "display_name": "Python 3 (ipykernel)",
   "language": "python",
   "name": "python3"
  },
  "language_info": {
   "codemirror_mode": {
    "name": "ipython",
    "version": 3
   },
   "file_extension": ".py",
   "mimetype": "text/x-python",
   "name": "python",
   "nbconvert_exporter": "python",
   "pygments_lexer": "ipython3",
   "version": "3.8.6"
  }
 },
 "nbformat": 4,
 "nbformat_minor": 5
}
